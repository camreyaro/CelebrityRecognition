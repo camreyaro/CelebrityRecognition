{
 "cells": [
  {
   "cell_type": "code",
   "execution_count": 26,
   "metadata": {},
   "outputs": [],
   "source": [
    "import numpy as np # linear algebra\n",
    "import os\n",
    "\n",
    "from keras.models import Sequential\n",
    "from keras.callbacks import ReduceLROnPlateau\n",
    "from keras.layers import Dense , Dropout , Lambda, Flatten, Convolution2D, MaxPooling2D, Conv2D, MaxPool2D\n",
    "from keras.layers.normalization import BatchNormalization\n",
    "from keras.optimizers import Adam ,RMSprop\n",
    "from keras import backend as K\n",
    "from keras.preprocessing.image import ImageDataGenerator\n",
    "from keras.utils.np_utils import to_categorical\n",
    "from random import shuffle"
   ]
  },
  {
   "cell_type": "code",
   "execution_count": 44,
   "metadata": {
    "scrolled": true
   },
   "outputs": [
    {
     "name": "stdout",
     "output_type": "stream",
     "text": [
      "Found 93 images belonging to 5 classes.\n"
     ]
    }
   ],
   "source": [
    "train_datagen = ImageDataGenerator(\n",
    "        rescale=1./255,\n",
    "        shear_range=0,\n",
    "        zoom_range=0,\n",
    "        horizontal_flip=False,\n",
    "        width_shift_range=0.1,  # randomly shift images horizontally (fraction of total width)\n",
    "        height_shift_range=0.1)\n",
    "\n",
    "train_generator = train_datagen.flow_from_directory(\n",
    "    directory='data/train/',\n",
    "    target_size=(150,150),\n",
    "    color_mode=\"rgb\",\n",
    "    batch_size=3,\n",
    "    class_mode=\"categorical\",\n",
    "    shuffle=True\n",
    ")"
   ]
  },
  {
   "cell_type": "code",
   "execution_count": 45,
   "metadata": {},
   "outputs": [
    {
     "name": "stdout",
     "output_type": "stream",
     "text": [
      "Found 25 images belonging to 5 classes.\n"
     ]
    }
   ],
   "source": [
    "valid_datagen = ImageDataGenerator(rescale=1./255)  \n",
    "\n",
    "valid_generator = valid_datagen.flow_from_directory(\n",
    "    directory='data/val/',\n",
    "    target_size=(150,150),\n",
    "    color_mode=\"rgb\",\n",
    "    batch_size=3,\n",
    "    class_mode=\"categorical\",\n",
    "    shuffle=True\n",
    ")"
   ]
  },
  {
   "cell_type": "code",
   "execution_count": 55,
   "metadata": {},
   "outputs": [
    {
     "name": "stdout",
     "output_type": "stream",
     "text": [
      "_________________________________________________________________\n",
      "Layer (type)                 Output Shape              Param #   \n",
      "=================================================================\n",
      "conv2d_42 (Conv2D)           (None, 148, 148, 256)     7168      \n",
      "_________________________________________________________________\n",
      "batch_normalization_29 (Batc (None, 148, 148, 256)     592       \n",
      "_________________________________________________________________\n",
      "conv2d_43 (Conv2D)           (None, 146, 146, 128)     295040    \n",
      "_________________________________________________________________\n",
      "max_pooling2d_22 (MaxPooling (None, 73, 73, 128)       0         \n",
      "_________________________________________________________________\n",
      "batch_normalization_30 (Batc (None, 73, 73, 128)       292       \n",
      "_________________________________________________________________\n",
      "conv2d_44 (Conv2D)           (None, 71, 71, 128)       147584    \n",
      "_________________________________________________________________\n",
      "max_pooling2d_23 (MaxPooling (None, 35, 35, 128)       0         \n",
      "_________________________________________________________________\n",
      "batch_normalization_31 (Batc (None, 35, 35, 128)       140       \n",
      "_________________________________________________________________\n",
      "conv2d_45 (Conv2D)           (None, 33, 33, 64)        73792     \n",
      "_________________________________________________________________\n",
      "max_pooling2d_24 (MaxPooling (None, 16, 16, 64)        0         \n",
      "_________________________________________________________________\n",
      "batch_normalization_32 (Batc (None, 16, 16, 64)        64        \n",
      "_________________________________________________________________\n",
      "conv2d_46 (Conv2D)           (None, 14, 14, 64)        36928     \n",
      "_________________________________________________________________\n",
      "batch_normalization_33 (Batc (None, 14, 14, 64)        56        \n",
      "_________________________________________________________________\n",
      "conv2d_47 (Conv2D)           (None, 12, 12, 32)        18464     \n",
      "_________________________________________________________________\n",
      "max_pooling2d_25 (MaxPooling (None, 6, 6, 32)          0         \n",
      "_________________________________________________________________\n",
      "batch_normalization_34 (Batc (None, 6, 6, 32)          24        \n",
      "_________________________________________________________________\n",
      "conv2d_48 (Conv2D)           (None, 4, 4, 32)          9248      \n",
      "_________________________________________________________________\n",
      "max_pooling2d_26 (MaxPooling (None, 2, 2, 32)          0         \n",
      "_________________________________________________________________\n",
      "flatten_10 (Flatten)         (None, 128)               0         \n",
      "_________________________________________________________________\n",
      "batch_normalization_35 (Batc (None, 128)               512       \n",
      "_________________________________________________________________\n",
      "dense_23 (Dense)             (None, 512)               66048     \n",
      "_________________________________________________________________\n",
      "batch_normalization_36 (Batc (None, 512)               2048      \n",
      "_________________________________________________________________\n",
      "dense_24 (Dense)             (None, 5)                 2565      \n",
      "=================================================================\n",
      "Total params: 660,565\n",
      "Trainable params: 658,701\n",
      "Non-trainable params: 1,864\n",
      "_________________________________________________________________\n"
     ]
    }
   ],
   "source": [
    "model = Sequential([\n",
    "        Convolution2D(256,(3,3), activation='relu', input_shape=(150,150,3)),\n",
    "        BatchNormalization(axis=2),\n",
    "        Convolution2D(128,(3,3), activation='relu'),\n",
    "        MaxPooling2D(),\n",
    "        BatchNormalization(axis=2),\n",
    "        Convolution2D(128,(3,3), activation='relu'),\n",
    "        MaxPooling2D(),\n",
    "        BatchNormalization(axis=2),\n",
    "        Convolution2D(64,(3,3), activation='relu'),\n",
    "        MaxPooling2D(),\n",
    "        BatchNormalization(axis=2),\n",
    "        Convolution2D(64,(3,3), activation='relu'),\n",
    "        BatchNormalization(axis=2),\n",
    "        Convolution2D(32,(3,3), activation='relu'),\n",
    "        MaxPooling2D(),\n",
    "        BatchNormalization(axis=2),\n",
    "        Convolution2D(32,(3,3), activation='relu'),\n",
    "        MaxPooling2D(),\n",
    "        Flatten(),\n",
    "        BatchNormalization(),\n",
    "        Dense(512, activation='relu'),\n",
    "        BatchNormalization(),\n",
    "        Dense(5, activation='softmax')\n",
    "        ])\n",
    "\n",
    "model.compile(Adam(), loss='categorical_crossentropy', metrics=['accuracy'])\n",
    "model.summary()"
   ]
  },
  {
   "cell_type": "code",
   "execution_count": 56,
   "metadata": {
    "scrolled": true
   },
   "outputs": [
    {
     "name": "stdout",
     "output_type": "stream",
     "text": [
      "Epoch 1/20\n",
      "31/31 [==============================] - 22s 708ms/step - loss: 1.9845 - acc: 0.3011 - val_loss: 8.4682 - val_acc: 0.2500\n",
      "Epoch 2/20\n",
      "31/31 [==============================] - 16s 518ms/step - loss: 2.0706 - acc: 0.3011 - val_loss: 2.9016 - val_acc: 0.3182\n",
      "Epoch 3/20\n",
      "31/31 [==============================] - 16s 515ms/step - loss: 1.8292 - acc: 0.3333 - val_loss: 4.9590 - val_acc: 0.2273\n",
      "Epoch 4/20\n",
      "31/31 [==============================] - 16s 519ms/step - loss: 1.8839 - acc: 0.3226 - val_loss: 4.4740 - val_acc: 0.3636\n",
      "Epoch 5/20\n",
      "31/31 [==============================] - 16s 516ms/step - loss: 1.7407 - acc: 0.3226 - val_loss: 6.0501 - val_acc: 0.2727\n",
      "Epoch 6/20\n",
      "31/31 [==============================] - 16s 520ms/step - loss: 1.7881 - acc: 0.3656 - val_loss: 5.5922 - val_acc: 0.0909\n",
      "Epoch 7/20\n",
      "31/31 [==============================] - 16s 515ms/step - loss: 1.6995 - acc: 0.3763 - val_loss: 3.6560 - val_acc: 0.3182\n",
      "Epoch 8/20\n",
      "31/31 [==============================] - 16s 518ms/step - loss: 1.6197 - acc: 0.4194 - val_loss: 1.9592 - val_acc: 0.5455\n",
      "Epoch 9/20\n",
      "31/31 [==============================] - 16s 517ms/step - loss: 1.8633 - acc: 0.2688 - val_loss: 3.9887 - val_acc: 0.2727\n",
      "Epoch 10/20\n",
      "31/31 [==============================] - 16s 518ms/step - loss: 1.3715 - acc: 0.4194 - val_loss: 7.8196 - val_acc: 0.2083\n",
      "Epoch 11/20\n",
      "31/31 [==============================] - 16s 512ms/step - loss: 1.8692 - acc: 0.3333 - val_loss: 10.6022 - val_acc: 0.1818\n",
      "Epoch 12/20\n",
      "31/31 [==============================] - 16s 518ms/step - loss: 2.1519 - acc: 0.2688 - val_loss: 2.9548 - val_acc: 0.2727\n",
      "Epoch 13/20\n",
      "31/31 [==============================] - 16s 518ms/step - loss: 2.0666 - acc: 0.2366 - val_loss: 3.5540 - val_acc: 0.1818\n",
      "Epoch 14/20\n",
      "31/31 [==============================] - 16s 520ms/step - loss: 1.7601 - acc: 0.3441 - val_loss: 4.5950 - val_acc: 0.0909\n",
      "Epoch 15/20\n",
      "31/31 [==============================] - 16s 514ms/step - loss: 1.6312 - acc: 0.3226 - val_loss: 4.1614 - val_acc: 0.1364\n",
      "Epoch 16/20\n",
      "31/31 [==============================] - 16s 518ms/step - loss: 1.8436 - acc: 0.3118 - val_loss: 8.9720 - val_acc: 0.1364\n",
      "Epoch 17/20\n",
      "31/31 [==============================] - 16s 516ms/step - loss: 1.5996 - acc: 0.3763 - val_loss: 4.8179 - val_acc: 0.1818\n",
      "Epoch 18/20\n",
      "31/31 [==============================] - 16s 515ms/step - loss: 1.6348 - acc: 0.3226 - val_loss: 3.5065 - val_acc: 0.2273\n",
      "Epoch 19/20\n",
      "31/31 [==============================] - 16s 521ms/step - loss: 1.4735 - acc: 0.4731 - val_loss: 2.9141 - val_acc: 0.2500\n",
      "Epoch 20/20\n",
      "31/31 [==============================] - 16s 517ms/step - loss: 1.7275 - acc: 0.3548 - val_loss: 4.3929 - val_acc: 0.1818\n"
     ]
    },
    {
     "data": {
      "text/plain": [
       "<keras.callbacks.History at 0x28d4c80b8d0>"
      ]
     },
     "execution_count": 56,
     "metadata": {},
     "output_type": "execute_result"
    }
   ],
   "source": [
    "STEP_SIZE_TRAIN=train_generator.n//train_generator.batch_size\n",
    "STEP_SIZE_VALID=valid_generator.n//valid_generator.batch_size\n",
    "\n",
    "model.fit_generator(generator=train_generator,\n",
    "                    steps_per_epoch=STEP_SIZE_TRAIN,\n",
    "                    validation_data=valid_generator,\n",
    "                    validation_steps=STEP_SIZE_VALID,\n",
    "                    epochs=20)"
   ]
  },
  {
   "cell_type": "code",
   "execution_count": 52,
   "metadata": {},
   "outputs": [
    {
     "name": "stdout",
     "output_type": "stream",
     "text": [
      "[[0. 1. 0. 0. 0.]]\n"
     ]
    }
   ],
   "source": [
    "from keras.preprocessing import image\n",
    "\n",
    "# predicting images\n",
    "img = image.load_img('ben-affleck.jpg', target_size=(150,150))\n",
    "x = image.img_to_array(img)\n",
    "x = np.expand_dims(x, axis=0)\n",
    "\n",
    "images = np.vstack([x])\n",
    "\n",
    "classes = model.predict(images, batch_size=3)\n",
    "print(classes)"
   ]
  },
  {
   "cell_type": "code",
   "execution_count": 53,
   "metadata": {},
   "outputs": [],
   "source": [
    "model.save('model.h5')"
   ]
  }
 ],
 "metadata": {
  "kernelspec": {
   "display_name": "Python 3",
   "language": "python",
   "name": "python3"
  }
 },
 "nbformat": 4,
 "nbformat_minor": 2
}
